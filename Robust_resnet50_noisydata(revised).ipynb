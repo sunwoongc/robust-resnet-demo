{
  "nbformat": 4,
  "nbformat_minor": 0,
  "metadata": {
    "colab": {
      "name": "Robust-resnet50-noisydata(revised).ipynb",
      "provenance": [],
      "authorship_tag": "ABX9TyMFwRmKjAdn+6g0DkfWKJ/p",
      "include_colab_link": true
    },
    "kernelspec": {
      "name": "python3",
      "display_name": "Python 3"
    },
    "accelerator": "GPU"
  },
  "cells": [
    {
      "cell_type": "markdown",
      "metadata": {
        "id": "view-in-github",
        "colab_type": "text"
      },
      "source": [
        "<a href=\"https://colab.research.google.com/github/sunwoongc/robust-resnet-demo/blob/main/Robust_resnet50_noisydata(revised).ipynb\" target=\"_parent\"><img src=\"https://colab.research.google.com/assets/colab-badge.svg\" alt=\"Open In Colab\"/></a>"
      ]
    },
    {
      "cell_type": "code",
      "metadata": {
        "id": "1npa3D_VbPJq"
      },
      "source": [
        "import torch\n",
        "import torch.nn as nn\n",
        "import torch.nn.functional as F\n",
        "import torch.optim as optim\n",
        "import os\n",
        "import sys\n",
        "import pickle\n",
        "import numpy as np\n",
        "from absl import flags"
      ],
      "execution_count": null,
      "outputs": []
    },
    {
      "cell_type": "code",
      "metadata": {
        "id": "EBF2KnyJft6Z",
        "colab": {
          "base_uri": "https://localhost:8080/"
        },
        "outputId": "1ef48438-6295-4393-d7b8-702c8cb2e91d"
      },
      "source": [
        "sys.argv = sys.argv[:1]\n",
        "flags.DEFINE_string(\"GPU_ID\", '0', \"Specify which GPU to train the model\")\n",
        "flags.DEFINE_float(\"h\", 0.08, \"Specify the value of the step size factor h (Make h smaller, training is more stable)\")\n",
        "flags.DEFINE_integer('n', 9, \"Specify the Resisual Block number in each stack. ResNet depth = 6*n + 2\")\n",
        "flags.DEFINE_float(\"start_LR\", 0.1, \"Specify the initial learning rate for the optimizer\")\n",
        "flags.DEFINE_integer('epochs', 60, \"Specify the epochs to train the model\")\n",
        "flags.DEFINE_integer('seed', 5, \"Specify the random seed for the consistent results\")\n",
        "flags.DEFINE_float('noise_level', 0.25, \"noise_level means the std in gaussian noise\")\n",
        "FLAGS = flags.FLAGS \n",
        "FLAGS(sys.argv)"
      ],
      "execution_count": null,
      "outputs": [
        {
          "output_type": "execute_result",
          "data": {
            "text/plain": [
              "['/usr/local/lib/python3.6/dist-packages/ipykernel_launcher.py']"
            ]
          },
          "metadata": {
            "tags": []
          },
          "execution_count": 2
        }
      ]
    },
    {
      "cell_type": "code",
      "metadata": {
        "id": "YOYaldL5hZd2"
      },
      "source": [
        "seed_num = FLAGS.seed\n",
        "np.random.seed(seed_num)\n",
        "torch.backends.cudnn.deterministic = True\n",
        "torch.manual_seed(seed_num)\n",
        "torch.cuda.manual_seed_all(seed_num)"
      ],
      "execution_count": null,
      "outputs": []
    },
    {
      "cell_type": "code",
      "metadata": {
        "id": "N0TB4CrihsGt"
      },
      "source": [
        "GPU_ID = FLAGS.GPU_ID\n",
        "cuda= torch.device('cuda:' + GPU_ID)\n",
        "h = FLAGS.h\n",
        "\n",
        "n = FLAGS.n # the Resisual Block number in each stacks \n",
        "block_list = [n, n, n] # we have three stacks.\n",
        "start_LR = FLAGS.start_LR\n",
        "num_epochs = FLAGS.epochs\n",
        "noise_level = FLAGS.noise_level"
      ],
      "execution_count": null,
      "outputs": []
    },
    {
      "cell_type": "code",
      "metadata": {
        "id": "DcLZbXRkhxCr",
        "colab": {
          "base_uri": "https://localhost:8080/"
        },
        "outputId": "3c1a7057-77a2-4aee-814d-ed55bb01bfd2"
      },
      "source": [
        "# Let us see how the hyper parameters are defined. \n",
        "print(\"\\nParameters:\")\n",
        "print(\"-\"*20)\n",
        "for attr, value in sorted(FLAGS.__flags.items()):\n",
        "    print(\"{}={}\".format(attr, value.value))\n",
        "print(\"\")"
      ],
      "execution_count": null,
      "outputs": [
        {
          "output_type": "stream",
          "text": [
            "\n",
            "Parameters:\n",
            "--------------------\n",
            "GPU_ID=0\n",
            "epochs=60\n",
            "h=0.75\n",
            "n=9\n",
            "noise_level=0.25\n",
            "seed=5\n",
            "start_LR=0.1\n",
            "\n"
          ],
          "name": "stdout"
        }
      ]
    },
    {
      "cell_type": "code",
      "metadata": {
        "id": "EAvBY-kHhxNn"
      },
      "source": [
        "from torchvision import datasets\n",
        "import torchvision.transforms as transforms\n",
        "from torch.utils.data.sampler import SubsetRandomSampler\n",
        "\n",
        "class AddGaussianNoise(object):\n",
        "    def __init__(self, mean=0., std=1.):\n",
        "        self.std = std\n",
        "        self.mean = mean\n",
        "        \n",
        "    def __call__(self, tensor):\n",
        "        return tensor + torch.randn(tensor.size()) * self.std + self.mean\n",
        "    \n",
        "    def __repr__(self):\n",
        "        return self.__class__.__name__ + '(mean={0}, std={1})'.format(self.mean, self.std)\n",
        "\n",
        "transform_train = transforms.Compose([\n",
        "    transforms.RandomCrop(32, padding=4),\n",
        "    transforms.RandomHorizontalFlip(),\n",
        "    transforms.ToTensor(),\n",
        "    transforms.Normalize((0.4914, 0.4822, 0.4465), (0.2023, 0.1994, 0.2010)),\n",
        "    AddGaussianNoise(0., noise_level)\n",
        "])\n",
        "\n",
        "transform_test = transforms.Compose([\n",
        "    transforms.ToTensor(),\n",
        "    transforms.Normalize((0.4914, 0.4822, 0.4465), (0.2023, 0.1994, 0.2010)),\n",
        "])"
      ],
      "execution_count": null,
      "outputs": []
    },
    {
      "cell_type": "code",
      "metadata": {
        "id": "sknMDEFvhxVx",
        "colab": {
          "base_uri": "https://localhost:8080/"
        },
        "outputId": "01edcab1-a922-41da-f903-c0caef9c65f7"
      },
      "source": [
        "# choose the training and test datasets\n",
        "train_data = datasets.CIFAR10('./data', train=True,\n",
        "                              download=True, transform=transform_train)\n",
        "test_data = datasets.CIFAR10('./data', train=False,\n",
        "                             download=True, transform=transform_test)\n",
        "\n",
        "trainloader = torch.utils.data.DataLoader(train_data, batch_size=128, shuffle=True, num_workers=2)\n",
        "\n",
        "testloader = torch.utils.data.DataLoader(test_data, batch_size=100, shuffle=False, num_workers=2)\n",
        "\n",
        "classes = ('plane', 'car', 'bird', 'cat', 'deer', 'dog', 'frog', 'horse', 'ship', 'truck')\n"
      ],
      "execution_count": null,
      "outputs": [
        {
          "output_type": "stream",
          "text": [
            "Files already downloaded and verified\n",
            "Files already downloaded and verified\n"
          ],
          "name": "stdout"
        }
      ]
    },
    {
      "cell_type": "code",
      "metadata": {
        "id": "lgXEfgdF62nf",
        "colab": {
          "base_uri": "https://localhost:8080/",
          "height": 303
        },
        "outputId": "4622090e-2a6e-4a85-ebed-7bbfe42f8d5e"
      },
      "source": [
        "import matplotlib.pyplot as plt\n",
        "import numpy as np\n",
        "import torchvision\n",
        "# 이미지를 보여주기 위한 함수\n",
        "\n",
        "def imshow(img):\n",
        "    img = img / 2 + 0.5     # unnormalize\n",
        "    npimg = img.numpy()\n",
        "    plt.imshow(np.transpose(npimg, (1, 2, 0)))\n",
        "    plt.show()\n",
        "\n",
        "\n",
        "# 학습용 이미지를 무작위로 가져오기\n",
        "dataiter = iter(trainloader)\n",
        "images, labels = dataiter.next()\n",
        "\n",
        "# 이미지 보여주기\n",
        "imshow(torchvision.utils.make_grid(images))\n",
        "# 정답(label) 출력\n",
        "print(' '.join('%5s' % classes[labels[j]] for j in range(4)))\n"
      ],
      "execution_count": null,
      "outputs": [
        {
          "output_type": "stream",
          "text": [
            "Clipping input data to the valid range for imshow with RGB data ([0..1] for floats or [0..255] for integers).\n"
          ],
          "name": "stderr"
        },
        {
          "output_type": "display_data",
          "data": {
            "image/png": "[encoded data removed]",
            "text/plain": [
              "<Figure size 432x288 with 1 Axes>"
            ]
          },
          "metadata": {
            "tags": [],
            "needs_background": "light"
          }
        },
        {
          "output_type": "stream",
          "text": [
            "  dog  frog plane truck\n"
          ],
          "name": "stdout"
        }
      ]
    },
    {
      "cell_type": "code",
      "metadata": {
        "id": "zXxlEcqdhxbk"
      },
      "source": [
        "class BasicBlock(nn.Module):\n",
        "\n",
        "    def __init__(self, in_channel, out_channel, stride = 1, dimension_mismatch = False):\n",
        "        \n",
        "        super(BasicBlock, self).__init__()\n",
        "        self.conv1 = nn.Conv2d(in_channel, out_channel, kernel_size=3, stride= stride, padding=1, bias=False)\n",
        "        self.bn1 = nn.BatchNorm2d(out_channel)\n",
        "        self.conv2 = nn.Conv2d(out_channel, out_channel, kernel_size=3, stride=1, padding=1, bias=False)\n",
        "        self.bn2 = nn.BatchNorm2d(out_channel)\n",
        "\n",
        "        self.shortcut = nn.Sequential()\n",
        "        \n",
        "        if dimension_mismatch:\n",
        "            self.shortcut = nn.Sequential(\n",
        "                nn.Conv2d(in_channel, out_channel, kernel_size=1, stride=2, bias=False),\n",
        "                nn.BatchNorm2d(out_channel)  # Dimensionality change for inpt x\n",
        "            )            \n",
        "\n",
        "    def forward(self, x):\n",
        "        out = F.relu(self.bn1(self.conv1(x)))\n",
        "        out = self.bn2(self.conv2(out))\n",
        "        out = self.shortcut(x) + h * out\n",
        "        out = F.relu(out)\n",
        "        return out"
      ],
      "execution_count": null,
      "outputs": []
    },
    {
      "cell_type": "code",
      "metadata": {
        "id": "qKzcB-o3jEdd"
      },
      "source": [
        "class ResNet(nn.Module):\n",
        "    def __init__(self, BasicBlock, num_blocks=[2, 2, 2] , num_classes=10):\n",
        "        super(ResNet, self).__init__()\n",
        "        self.num_blocks = num_blocks\n",
        "        \n",
        "        self.conv1 = nn.Conv2d(3, 16, kernel_size=3, stride=1, padding=1, bias=False)\n",
        "        self.bn1 = nn.BatchNorm2d(16)\n",
        "        \n",
        "        \n",
        "        self.stack1 = self._make_stacks(in_channel = 16, out_channel = 16, \n",
        "                                        num_block = self.num_blocks[0], \n",
        "                                        dimension_mismatch = False)        \n",
        "        self.stack2 = self._make_stacks(in_channel = 16, out_channel = 32, \n",
        "                                        num_block = self.num_blocks[1], \n",
        "                                        dimension_mismatch = True )\n",
        "        self.stack3 = self._make_stacks(in_channel = 32, out_channel = 64, \n",
        "                                        num_block = self.num_blocks[2], \n",
        "                                        dimension_mismatch = True )\n",
        "        \n",
        "        self.linear = nn.Linear(64, num_classes)\n",
        "    \n",
        "    \n",
        "    def _make_stacks(self, in_channel = 16, out_channel = 16, num_block = 2, dimension_mismatch = False):\n",
        "        d_mismatch = dimension_mismatch\n",
        "        if dimension_mismatch == False:\n",
        "            stride = 1\n",
        "        else:\n",
        "            stride = 2\n",
        "        \n",
        "        layers = []\n",
        "        for i in range(num_block):\n",
        "            layers.append(BasicBlock(in_channel, out_channel, stride = stride, dimension_mismatch = d_mismatch ))\n",
        "            d_mismatch = False\n",
        "            stride = 1\n",
        "            in_channel = out_channel\n",
        "            \n",
        "        return(nn.Sequential(*layers))\n",
        "        \n",
        "        \n",
        "    \n",
        "    \n",
        "    def forward(self, x):\n",
        "        out = F.relu(self.bn1(self.conv1(x)))        \n",
        "        out = self.stack1(out)\n",
        "        out = self.stack2(out)\n",
        "        out = self.stack3(out)\n",
        "        out = F.avg_pool2d(out, 8)\n",
        "        out = out.view(out.size(0), -1)\n",
        "        out = self.linear(out)\n",
        "        return out"
      ],
      "execution_count": null,
      "outputs": []
    },
    {
      "cell_type": "code",
      "metadata": {
        "id": "lNQj6wpKjLiq",
        "colab": {
          "base_uri": "https://localhost:8080/"
        },
        "outputId": "5b140d7a-1a45-42c1-9b5f-fd2e768abf6b"
      },
      "source": [
        "# Model\n",
        "print('==> Building model ResNet Depth {}..'.format(2*sum(block_list) + 2))\n",
        "#torch.backends.cudnn.benchmark = True  # faster runtime\n",
        "net = ResNet(BasicBlock, num_blocks = block_list)\n",
        "net = net.to(cuda)\n",
        "#net = torch.nn.DataParallel(net) \n",
        "\n",
        "\n",
        "\n",
        "\n",
        "criterion = nn.CrossEntropyLoss()\n",
        "optimizer = optim.SGD(net.parameters(), lr= start_LR, momentum=0.9)\n",
        "\n",
        "\n",
        "\n",
        "\n",
        "train_acc_list = []\n",
        "test_acc_list = []"
      ],
      "execution_count": null,
      "outputs": [
        {
          "output_type": "stream",
          "text": [
            "==> Building model ResNet Depth 56..\n"
          ],
          "name": "stdout"
        }
      ]
    },
    {
      "cell_type": "code",
      "metadata": {
        "id": "EhfM7703jLte"
      },
      "source": [
        "def train(epoch):\n",
        "    #print('\\nEpoch: %d' % epoch)\n",
        "    net.train()\n",
        "    train_loss = 0\n",
        "    correct = 0\n",
        "    total = 0\n",
        "    for batch_idx, (inputs, targets) in enumerate(trainloader):\n",
        "        inputs, targets = inputs.to(cuda), targets.to(cuda)\n",
        "        optimizer.zero_grad()\n",
        "        outputs = net(inputs)\n",
        "        loss = criterion(outputs, targets)\n",
        "        loss.backward()\n",
        "        optimizer.step()\n",
        "\n",
        "        train_loss += loss.item()\n",
        "        _, predicted = outputs.max(1)\n",
        "        total += targets.size(0)\n",
        "        correct += predicted.eq(targets).sum().item()\n",
        "\n",
        "        #print ( (batch_idx, len(trainloader), 'Loss: %.3f | Acc: %.3f%% (%d/%d)'\n",
        "        #    % (train_loss/(batch_idx+1), 100.*correct/total, correct, total) )  )\n",
        "\n",
        "    acc = correct/total\n",
        "    print (\"###########EPOCH {}, NOISE LEVEL {}, ############# Train ACC {}\".format(epoch, noise_level, acc))\n",
        "    train_acc_list.append(acc)     \n",
        "        \n",
        "def test(epoch):\n",
        "    global best_test_acc\n",
        "    net.eval()\n",
        "    test_loss = 0\n",
        "    correct = 0\n",
        "    total = 0\n",
        "    with torch.no_grad():\n",
        "        for batch_idx, (inputs, targets) in enumerate(testloader):\n",
        "            inputs, targets = inputs.to(cuda), targets.to(cuda)\n",
        "            outputs = net(inputs)\n",
        "            loss = criterion(outputs, targets)\n",
        "\n",
        "            test_loss += loss.item()\n",
        "            _, predicted = outputs.max(1)\n",
        "            total += targets.size(0)\n",
        "            correct += predicted.eq(targets).sum().item()\n",
        "    # Save checkpoint.\n",
        "    acc = correct/total\n",
        "    print (\"###########EPOCH {}, NOISE LEVEL {}, ############# Test ACC {}\".format(epoch, noise_level ,acc))\n",
        "    test_acc_list.append(acc)\n"
      ],
      "execution_count": null,
      "outputs": []
    },
    {
      "cell_type": "code",
      "metadata": {
        "id": "cxSRa7PdjnDE",
        "colab": {
          "base_uri": "https://localhost:8080/"
        },
        "outputId": "a97c678a-efd3-4bbd-da90-79d7f08fb426"
      },
      "source": [
        "# Train\n",
        "scheduler = optim.lr_scheduler.MultiStepLR(optimizer, milestones=[15,30], gamma=0.1)\n",
        "for epoch in range(num_epochs):\n",
        "    scheduler.step()\n",
        "    train(epoch)\n",
        "    test(epoch)\n",
        "\n",
        "\n",
        "\n",
        "\n",
        "depth = 2*sum(block_list) + 2\n",
        "save_dir = 'vis_acc'\n",
        "name = \"seed{}depth{}epoch{}h{}start_LR{}optimzer{}noise_level{}\".format(seed_num,depth, num_epochs, h, start_LR,\"SGD_momentum\",noise_level)\n",
        "if not os.path.isdir(save_dir):\n",
        "    os.mkdir(save_dir)\n",
        "\n",
        "acc = dict()\n",
        "acc.update( { \"test_acc\": test_acc_list } )\n",
        "acc.update( {\"train_acc\": train_acc_list} )\n",
        "\n",
        "    \n",
        "with open(save_dir + '/' + name + \".pickle\", 'wb') as file:\n",
        "    pickle.dump(acc, file)\n"
      ],
      "execution_count": null,
      "outputs": [
        {
          "output_type": "stream",
          "text": [
            "/usr/local/lib/python3.6/dist-packages/torch/optim/lr_scheduler.py:123: UserWarning: Detected call of `lr_scheduler.step()` before `optimizer.step()`. In PyTorch 1.1.0 and later, you should call them in the opposite order: `optimizer.step()` before `lr_scheduler.step()`.  Failure to do this will result in PyTorch skipping the first value of the learning rate schedule. See more details at https://pytorch.org/docs/stable/optim.html#how-to-adjust-learning-rate\n",
            "  \"https://pytorch.org/docs/stable/optim.html#how-to-adjust-learning-rate\", UserWarning)\n"
          ],
          "name": "stderr"
        },
        {
          "output_type": "stream",
          "text": [
            "###########EPOCH 0, NOISE LEVEL 0.25, ############# Train ACC 0.31112\n",
            "###########EPOCH 0, NOISE LEVEL 0.25, ############# Test ACC 0.3889\n",
            "###########EPOCH 1, NOISE LEVEL 0.25, ############# Train ACC 0.47864\n",
            "###########EPOCH 1, NOISE LEVEL 0.25, ############# Test ACC 0.5427\n",
            "###########EPOCH 2, NOISE LEVEL 0.25, ############# Train ACC 0.59022\n",
            "###########EPOCH 2, NOISE LEVEL 0.25, ############# Test ACC 0.5649\n",
            "###########EPOCH 3, NOISE LEVEL 0.25, ############# Train ACC 0.66062\n",
            "###########EPOCH 3, NOISE LEVEL 0.25, ############# Test ACC 0.6739\n",
            "###########EPOCH 4, NOISE LEVEL 0.25, ############# Train ACC 0.71134\n",
            "###########EPOCH 4, NOISE LEVEL 0.25, ############# Test ACC 0.6981\n",
            "###########EPOCH 5, NOISE LEVEL 0.25, ############# Train ACC 0.74376\n",
            "###########EPOCH 5, NOISE LEVEL 0.25, ############# Test ACC 0.7151\n",
            "###########EPOCH 6, NOISE LEVEL 0.25, ############# Train ACC 0.77028\n",
            "###########EPOCH 6, NOISE LEVEL 0.25, ############# Test ACC 0.7123\n",
            "###########EPOCH 7, NOISE LEVEL 0.25, ############# Train ACC 0.78302\n",
            "###########EPOCH 7, NOISE LEVEL 0.25, ############# Test ACC 0.7355\n",
            "###########EPOCH 8, NOISE LEVEL 0.25, ############# Train ACC 0.79832\n",
            "###########EPOCH 8, NOISE LEVEL 0.25, ############# Test ACC 0.7563\n",
            "###########EPOCH 9, NOISE LEVEL 0.25, ############# Train ACC 0.81066\n",
            "###########EPOCH 9, NOISE LEVEL 0.25, ############# Test ACC 0.7606\n",
            "###########EPOCH 10, NOISE LEVEL 0.25, ############# Train ACC 0.82004\n",
            "###########EPOCH 10, NOISE LEVEL 0.25, ############# Test ACC 0.7867\n",
            "###########EPOCH 11, NOISE LEVEL 0.25, ############# Train ACC 0.83204\n",
            "###########EPOCH 11, NOISE LEVEL 0.25, ############# Test ACC 0.7737\n",
            "###########EPOCH 12, NOISE LEVEL 0.25, ############# Train ACC 0.83546\n",
            "###########EPOCH 12, NOISE LEVEL 0.25, ############# Test ACC 0.817\n",
            "###########EPOCH 13, NOISE LEVEL 0.25, ############# Train ACC 0.84338\n",
            "###########EPOCH 13, NOISE LEVEL 0.25, ############# Test ACC 0.7886\n",
            "###########EPOCH 14, NOISE LEVEL 0.25, ############# Train ACC 0.87514\n",
            "###########EPOCH 14, NOISE LEVEL 0.25, ############# Test ACC 0.8421\n",
            "###########EPOCH 15, NOISE LEVEL 0.25, ############# Train ACC 0.88346\n",
            "###########EPOCH 15, NOISE LEVEL 0.25, ############# Test ACC 0.8497\n",
            "###########EPOCH 16, NOISE LEVEL 0.25, ############# Train ACC 0.88908\n",
            "###########EPOCH 16, NOISE LEVEL 0.25, ############# Test ACC 0.8483\n",
            "###########EPOCH 17, NOISE LEVEL 0.25, ############# Train ACC 0.89228\n",
            "###########EPOCH 17, NOISE LEVEL 0.25, ############# Test ACC 0.8532\n",
            "###########EPOCH 18, NOISE LEVEL 0.25, ############# Train ACC 0.89278\n",
            "###########EPOCH 18, NOISE LEVEL 0.25, ############# Test ACC 0.8525\n",
            "###########EPOCH 19, NOISE LEVEL 0.25, ############# Train ACC 0.89518\n",
            "###########EPOCH 19, NOISE LEVEL 0.25, ############# Test ACC 0.8593\n",
            "###########EPOCH 20, NOISE LEVEL 0.25, ############# Train ACC 0.89866\n",
            "###########EPOCH 20, NOISE LEVEL 0.25, ############# Test ACC 0.8566\n",
            "###########EPOCH 21, NOISE LEVEL 0.25, ############# Train ACC 0.89852\n",
            "###########EPOCH 21, NOISE LEVEL 0.25, ############# Test ACC 0.8475\n",
            "###########EPOCH 22, NOISE LEVEL 0.25, ############# Train ACC 0.90192\n",
            "###########EPOCH 22, NOISE LEVEL 0.25, ############# Test ACC 0.8517\n",
            "###########EPOCH 23, NOISE LEVEL 0.25, ############# Train ACC 0.90206\n",
            "###########EPOCH 23, NOISE LEVEL 0.25, ############# Test ACC 0.8548\n",
            "###########EPOCH 24, NOISE LEVEL 0.25, ############# Train ACC 0.90442\n",
            "###########EPOCH 24, NOISE LEVEL 0.25, ############# Test ACC 0.8524\n",
            "###########EPOCH 25, NOISE LEVEL 0.25, ############# Train ACC 0.90458\n",
            "###########EPOCH 25, NOISE LEVEL 0.25, ############# Test ACC 0.8597\n",
            "###########EPOCH 26, NOISE LEVEL 0.25, ############# Train ACC 0.90508\n",
            "###########EPOCH 26, NOISE LEVEL 0.25, ############# Test ACC 0.8521\n",
            "###########EPOCH 27, NOISE LEVEL 0.25, ############# Train ACC 0.90972\n",
            "###########EPOCH 27, NOISE LEVEL 0.25, ############# Test ACC 0.8475\n",
            "###########EPOCH 28, NOISE LEVEL 0.25, ############# Train ACC 0.911\n",
            "###########EPOCH 28, NOISE LEVEL 0.25, ############# Test ACC 0.8533\n",
            "###########EPOCH 29, NOISE LEVEL 0.25, ############# Train ACC 0.91422\n",
            "###########EPOCH 29, NOISE LEVEL 0.25, ############# Test ACC 0.8557\n",
            "###########EPOCH 30, NOISE LEVEL 0.25, ############# Train ACC 0.91606\n",
            "###########EPOCH 30, NOISE LEVEL 0.25, ############# Test ACC 0.8576\n",
            "###########EPOCH 31, NOISE LEVEL 0.25, ############# Train ACC 0.91708\n",
            "###########EPOCH 31, NOISE LEVEL 0.25, ############# Test ACC 0.8586\n",
            "###########EPOCH 32, NOISE LEVEL 0.25, ############# Train ACC 0.91856\n",
            "###########EPOCH 32, NOISE LEVEL 0.25, ############# Test ACC 0.8576\n",
            "###########EPOCH 33, NOISE LEVEL 0.25, ############# Train ACC 0.9171\n",
            "###########EPOCH 33, NOISE LEVEL 0.25, ############# Test ACC 0.8583\n",
            "###########EPOCH 34, NOISE LEVEL 0.25, ############# Train ACC 0.9165\n",
            "###########EPOCH 34, NOISE LEVEL 0.25, ############# Test ACC 0.8574\n",
            "###########EPOCH 35, NOISE LEVEL 0.25, ############# Train ACC 0.918\n",
            "###########EPOCH 35, NOISE LEVEL 0.25, ############# Test ACC 0.8594\n",
            "###########EPOCH 36, NOISE LEVEL 0.25, ############# Train ACC 0.91852\n",
            "###########EPOCH 36, NOISE LEVEL 0.25, ############# Test ACC 0.8594\n",
            "###########EPOCH 37, NOISE LEVEL 0.25, ############# Train ACC 0.91968\n",
            "###########EPOCH 37, NOISE LEVEL 0.25, ############# Test ACC 0.8579\n",
            "###########EPOCH 38, NOISE LEVEL 0.25, ############# Train ACC 0.91874\n",
            "###########EPOCH 38, NOISE LEVEL 0.25, ############# Test ACC 0.859\n",
            "###########EPOCH 39, NOISE LEVEL 0.25, ############# Train ACC 0.92018\n",
            "###########EPOCH 39, NOISE LEVEL 0.25, ############# Test ACC 0.8586\n",
            "###########EPOCH 40, NOISE LEVEL 0.25, ############# Train ACC 0.921\n",
            "###########EPOCH 40, NOISE LEVEL 0.25, ############# Test ACC 0.8586\n",
            "###########EPOCH 41, NOISE LEVEL 0.25, ############# Train ACC 0.92042\n",
            "###########EPOCH 41, NOISE LEVEL 0.25, ############# Test ACC 0.8585\n",
            "###########EPOCH 42, NOISE LEVEL 0.25, ############# Train ACC 0.92086\n",
            "###########EPOCH 42, NOISE LEVEL 0.25, ############# Test ACC 0.8585\n",
            "###########EPOCH 43, NOISE LEVEL 0.25, ############# Train ACC 0.92034\n",
            "###########EPOCH 43, NOISE LEVEL 0.25, ############# Test ACC 0.8572\n",
            "###########EPOCH 44, NOISE LEVEL 0.25, ############# Train ACC 0.9192\n",
            "###########EPOCH 44, NOISE LEVEL 0.25, ############# Test ACC 0.8561\n",
            "###########EPOCH 45, NOISE LEVEL 0.25, ############# Train ACC 0.92078\n",
            "###########EPOCH 45, NOISE LEVEL 0.25, ############# Test ACC 0.8567\n",
            "###########EPOCH 46, NOISE LEVEL 0.25, ############# Train ACC 0.92146\n",
            "###########EPOCH 46, NOISE LEVEL 0.25, ############# Test ACC 0.859\n",
            "###########EPOCH 47, NOISE LEVEL 0.25, ############# Train ACC 0.92156\n",
            "###########EPOCH 47, NOISE LEVEL 0.25, ############# Test ACC 0.8592\n",
            "###########EPOCH 48, NOISE LEVEL 0.25, ############# Train ACC 0.92208\n",
            "###########EPOCH 48, NOISE LEVEL 0.25, ############# Test ACC 0.8616\n",
            "###########EPOCH 49, NOISE LEVEL 0.25, ############# Train ACC 0.9205\n",
            "###########EPOCH 49, NOISE LEVEL 0.25, ############# Test ACC 0.8573\n",
            "###########EPOCH 50, NOISE LEVEL 0.25, ############# Train ACC 0.92176\n",
            "###########EPOCH 50, NOISE LEVEL 0.25, ############# Test ACC 0.8567\n",
            "###########EPOCH 51, NOISE LEVEL 0.25, ############# Train ACC 0.92136\n",
            "###########EPOCH 51, NOISE LEVEL 0.25, ############# Test ACC 0.8603\n",
            "###########EPOCH 52, NOISE LEVEL 0.25, ############# Train ACC 0.92298\n",
            "###########EPOCH 52, NOISE LEVEL 0.25, ############# Test ACC 0.8557\n",
            "###########EPOCH 53, NOISE LEVEL 0.25, ############# Train ACC 0.9237\n",
            "###########EPOCH 53, NOISE LEVEL 0.25, ############# Test ACC 0.8597\n",
            "###########EPOCH 54, NOISE LEVEL 0.25, ############# Train ACC 0.92308\n",
            "###########EPOCH 54, NOISE LEVEL 0.25, ############# Test ACC 0.8573\n",
            "###########EPOCH 55, NOISE LEVEL 0.25, ############# Train ACC 0.9234\n",
            "###########EPOCH 55, NOISE LEVEL 0.25, ############# Test ACC 0.8585\n",
            "###########EPOCH 56, NOISE LEVEL 0.25, ############# Train ACC 0.9229\n",
            "###########EPOCH 56, NOISE LEVEL 0.25, ############# Test ACC 0.8601\n",
            "###########EPOCH 57, NOISE LEVEL 0.25, ############# Train ACC 0.9234\n",
            "###########EPOCH 57, NOISE LEVEL 0.25, ############# Test ACC 0.8619\n",
            "###########EPOCH 58, NOISE LEVEL 0.25, ############# Train ACC 0.92312\n",
            "###########EPOCH 58, NOISE LEVEL 0.25, ############# Test ACC 0.8606\n",
            "###########EPOCH 59, NOISE LEVEL 0.25, ############# Train ACC 0.92404\n",
            "###########EPOCH 59, NOISE LEVEL 0.25, ############# Test ACC 0.8599\n"
          ],
          "name": "stdout"
        }
      ]
    }
  ]
}