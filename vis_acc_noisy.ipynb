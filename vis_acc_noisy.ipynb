{
  "nbformat": 4,
  "nbformat_minor": 0,
  "metadata": {
    "colab": {
      "name": "vis_acc_noisy.ipynb",
      "private_outputs": true,
      "provenance": [],
      "authorship_tag": "ABX9TyMt6RBLqByNYqhKdVZyTLjs",
      "include_colab_link": true
    },
    "kernelspec": {
      "name": "python3",
      "display_name": "Python 3"
    }
  },
  "cells": [
    {
      "cell_type": "markdown",
      "metadata": {
        "id": "view-in-github",
        "colab_type": "text"
      },
      "source": [
        "<a href=\"https://colab.research.google.com/github/sunwoongc/robust-resnet-demo/blob/main/vis_acc_noisy.ipynb\" target=\"_parent\"><img src=\"https://colab.research.google.com/assets/colab-badge.svg\" alt=\"Open In Colab\"/></a>"
      ]
    },
    {
      "cell_type": "code",
      "metadata": {
        "id": "yYmIUbaDyq8S"
      },
      "source": [
        "from google.colab import files\n",
        "uploaded = files.upload()"
      ],
      "execution_count": null,
      "outputs": []
    },
    {
      "cell_type": "code",
      "metadata": {
        "id": "NnhSBxpS0MS4"
      },
      "source": [
        "import os"
      ],
      "execution_count": null,
      "outputs": []
    },
    {
      "cell_type": "code",
      "metadata": {
        "id": "9uynNW0p0NiR"
      },
      "source": [
        "os.listdir('.')"
      ],
      "execution_count": null,
      "outputs": []
    },
    {
      "cell_type": "code",
      "metadata": {
        "id": "QTKVPU280PVa"
      },
      "source": [
        "import pickle\n",
        "import matplotlib.pyplot as plt\n",
        "import numpy as np"
      ],
      "execution_count": null,
      "outputs": []
    },
    {
      "cell_type": "code",
      "metadata": {
        "id": "Y1n18co80WwB"
      },
      "source": [
        "start_LR = 0.1\n",
        "num_epochs = 60\n",
        "epoch = [i for i in range(num_epochs)]\n",
        "\n",
        "seed_list = [5,\n",
        "             #7\n",
        "            #8\n",
        "            #9\n",
        "            #10\n",
        "            #11\n",
        "            ] # repeated files you are running\n",
        "depth_list = [\n",
        "    #20, \n",
        "    #38, \n",
        "    #44,\n",
        "    #50, \n",
        "    56, \n",
        "    #110, \n",
        "    #134, \n",
        "    #152, \n",
        "    #182, \n",
        "    #242, \n",
        "    #302, \n",
        "    #326, \n",
        "    #434, \n",
        "    #542, \n",
        "    #650\n",
        "]\n",
        "noise_level = 0.25"
      ],
      "execution_count": null,
      "outputs": []
    },
    {
      "cell_type": "code",
      "metadata": {
        "id": "b1-eiPKS0bRL"
      },
      "source": [
        "h_01_best_acc = {}\n",
        "h_10_best_acc = {}\n",
        "\n",
        "for depth in depth_list:\n",
        "    h_01_best_acc.update({depth: []})\n",
        "    h_10_best_acc.update({depth: []})\n",
        "    \n",
        "    for seed in seed_list:\n",
        "        h = 0.1\n",
        "        name = \"seed{}depth{}epoch{}h{}start_LR{}optimzer{}noise_level{}\".format(seed, depth, num_epochs, h, start_LR,\"SGD_momentum\",noise_level)\n",
        "        with open( name + \".pickle\", 'rb') as file:\n",
        "            stat = pickle.load(file)\n",
        "        test_acc = stat['test_acc']\n",
        "        plt.plot(epoch, test_acc, color = 'b', label='Robust-ResNet with step size 0.1')\n",
        "        print(test_acc)\n",
        "        h_01_best_acc[depth].append(max(test_acc))\n",
        "        ax = plt.axes()\n",
        "        ax.set(xlim=(0, 60), ylim=(0, 1))\n",
        "        plt.xlabel(\"epochs\")\n",
        "        plt.ylabel(\"test accuracy\")\n",
        "        x = np.linspace(0,60,61)\n",
        "        y = np.linspace(0,1,100)\n",
        "        plt.xticks(np.arange(min(x), max(x)+1, 5.0))\n",
        "        plt.yticks(np.arange(min(y), max(y)+1, 0.1))\n",
        "        \n",
        "    for seed in seed_list:\n",
        "        h = 1.0\n",
        "        name = \"seed{}depth{}epoch{}h{}start_LR{}optimzer{}noise_level{}\".format(seed, depth, num_epochs, h, start_LR,\"SGD_momentum\",noise_level)\n",
        "        with open( name + \".pickle\", 'rb') as file:\n",
        "            stat = pickle.load(file)\n",
        "        test_acc = stat['test_acc']\n",
        "        print(test_acc[59])\n",
        "        plt.plot(epoch, test_acc, color = 'r', label='ResNet with step size 1')\n",
        "\n",
        "        h_10_best_acc[depth].append(max(test_acc))\n",
        "        ax = plt.axes()\n",
        "        ax.set(xlim=(0, 60), ylim=(0, 1))\n",
        "        \n",
        "\n",
        "    for seed in seed_list:\n",
        "        h = 0.75  \n",
        "        name = \"seed{}depth{}epoch{}h{}start_LR{}optimzer{}noise_level{}\".format(seed, depth, num_epochs, h, start_LR,\"SGD_momentum\", noise_level)\n",
        "        with open( name + \".pickle\", 'rb') as file:\n",
        "            stat = pickle.load(file)\n",
        "        test_acc = stat['test_acc']\n",
        "        print(test_acc[59])\n",
        "        plt.plot(epoch, test_acc, color = 'g', label='Robust-ResNet with step size 0.75')\n",
        "        plt.legend();\n",
        "        ax = plt.axes()\n",
        "        ax.set(xlim=(0, 60), ylim=(0, 1))\n",
        "        ax.set_title('Classification of CIFAR-10 Dataset with noise level 0.25')\n",
        "        from google.colab import files\n",
        "        plt.savefig(\"Classification of CIFAR-10 Dataset with noise level 0.25.png\", bbox_inches = 'tight', dpi=200)\n",
        "        files.download(\"Classification of CIFAR-10 Dataset with noise level 0.25.png\") \n",
        "        h_10_best_acc[depth].append(max(test_acc))\n",
        "        \n",
        "\n",
        "           \n",
        "    plt.show()\n",
        "\n",
        "\n",
        "#depth_list = [20, 38, 44, 56, 110, 134, 152, 182, 242, 302, 326, 434, 542, 650]\n",
        "\n",
        "\n",
        "\n",
        "\n",
        "\n",
        "median_h01 = []\n",
        "std_h01 = []\n",
        "median_h10 = []\n",
        "std_h10 =[]\n",
        "for depth in depth_list:\n",
        "    median_h01.append(np.median(h_01_best_acc[depth]))\n",
        "    std_h01.append(np.std(h_01_best_acc[depth]))\n",
        "    \n",
        "    median_h10.append(np.median(h_10_best_acc[depth]))\n",
        "    std_h10.append(np.std(h_10_best_acc[depth]))\n",
        "    \n",
        "\n",
        "\n",
        "    \n",
        "    \n",
        "\n",
        "    \n",
        "\n",
        "\n",
        "# In[ ]:\n",
        "\n",
        "\n",
        "# Collect some statistics \n",
        "median_h01 = np.array(median_h01)\n",
        "std_h01 = np.array(std_h01)\n",
        "median_h10 = np.array(median_h10)\n",
        "std_h10 =np.array(std_h10)\n",
        "\n",
        "print(median_h01)\n",
        "print(median_h10)"
      ],
      "execution_count": null,
      "outputs": []
    }
  ]
}